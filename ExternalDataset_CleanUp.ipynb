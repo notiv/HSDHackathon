{
 "cells": [
  {
   "cell_type": "code",
   "execution_count": 1,
   "metadata": {},
   "outputs": [],
   "source": [
    "import pandas as pd"
   ]
  },
  {
   "cell_type": "markdown",
   "metadata": {},
   "source": [
    "RP-Mod & RP-Crowd"
   ]
  },
  {
   "cell_type": "code",
   "execution_count": 2,
   "metadata": {},
   "outputs": [],
   "source": [
    "filename = 'RP-Mod-Crowd'\n",
    "df_raw = pd.read_csv(f'../ExternalData/{filename}.csv', sep=',')"
   ]
  },
  {
   "cell_type": "code",
   "execution_count": 3,
   "metadata": {},
   "outputs": [
    {
     "data": {
      "text/html": [
       "<div>\n",
       "<style scoped>\n",
       "    .dataframe tbody tr th:only-of-type {\n",
       "        vertical-align: middle;\n",
       "    }\n",
       "\n",
       "    .dataframe tbody tr th {\n",
       "        vertical-align: top;\n",
       "    }\n",
       "\n",
       "    .dataframe thead th {\n",
       "        text-align: right;\n",
       "    }\n",
       "</style>\n",
       "<table border=\"1\" class=\"dataframe\">\n",
       "  <thead>\n",
       "    <tr style=\"text-align: right;\">\n",
       "      <th></th>\n",
       "      <th>Unnamed: 0.1</th>\n",
       "      <th>Unnamed: 0</th>\n",
       "      <th>id</th>\n",
       "      <th>Text</th>\n",
       "      <th>Reject Newspaper</th>\n",
       "      <th>Reject Crowd</th>\n",
       "      <th>Rejection Count Crowd</th>\n",
       "      <th>Sexism Count Crowd</th>\n",
       "      <th>Racism Count Crowd</th>\n",
       "      <th>Threat Count Crowd</th>\n",
       "      <th>Insult Count Crowd</th>\n",
       "      <th>Profanity Count Crowd</th>\n",
       "      <th>Meta Count Crowd</th>\n",
       "      <th>Advertisement Count Crowd</th>\n",
       "    </tr>\n",
       "  </thead>\n",
       "  <tbody>\n",
       "    <tr>\n",
       "      <th>0</th>\n",
       "      <td>0</td>\n",
       "      <td>0</td>\n",
       "      <td>1911223</td>\n",
       "      <td>Niemand braucht Laschet den Merkel Günstling !...</td>\n",
       "      <td>0</td>\n",
       "      <td>0</td>\n",
       "      <td>0</td>\n",
       "      <td>NaN</td>\n",
       "      <td>NaN</td>\n",
       "      <td>NaN</td>\n",
       "      <td>NaN</td>\n",
       "      <td>NaN</td>\n",
       "      <td>NaN</td>\n",
       "      <td>NaN</td>\n",
       "    </tr>\n",
       "    <tr>\n",
       "      <th>1</th>\n",
       "      <td>1</td>\n",
       "      <td>1</td>\n",
       "      <td>1911225</td>\n",
       "      <td>das war apokalypse now. nicht einmal zu einem ...</td>\n",
       "      <td>0</td>\n",
       "      <td>0</td>\n",
       "      <td>0</td>\n",
       "      <td>NaN</td>\n",
       "      <td>NaN</td>\n",
       "      <td>NaN</td>\n",
       "      <td>NaN</td>\n",
       "      <td>NaN</td>\n",
       "      <td>NaN</td>\n",
       "      <td>NaN</td>\n",
       "    </tr>\n",
       "  </tbody>\n",
       "</table>\n",
       "</div>"
      ],
      "text/plain": [
       "   Unnamed: 0.1  Unnamed: 0       id   \n",
       "0             0           0  1911223  \\\n",
       "1             1           1  1911225   \n",
       "\n",
       "                                                Text  Reject Newspaper   \n",
       "0  Niemand braucht Laschet den Merkel Günstling !...                 0  \\\n",
       "1  das war apokalypse now. nicht einmal zu einem ...                 0   \n",
       "\n",
       "   Reject Crowd  Rejection Count Crowd  Sexism Count Crowd   \n",
       "0             0                      0                 NaN  \\\n",
       "1             0                      0                 NaN   \n",
       "\n",
       "   Racism Count Crowd  Threat Count Crowd  Insult Count Crowd   \n",
       "0                 NaN                 NaN                 NaN  \\\n",
       "1                 NaN                 NaN                 NaN   \n",
       "\n",
       "   Profanity Count Crowd  Meta Count Crowd  Advertisement Count Crowd  \n",
       "0                    NaN               NaN                        NaN  \n",
       "1                    NaN               NaN                        NaN  "
      ]
     },
     "execution_count": 3,
     "metadata": {},
     "output_type": "execute_result"
    }
   ],
   "source": [
    "df_raw.head(2)"
   ]
  },
  {
   "cell_type": "code",
   "execution_count": 4,
   "metadata": {},
   "outputs": [
    {
     "data": {
      "text/html": [
       "<div>\n",
       "<style scoped>\n",
       "    .dataframe tbody tr th:only-of-type {\n",
       "        vertical-align: middle;\n",
       "    }\n",
       "\n",
       "    .dataframe tbody tr th {\n",
       "        vertical-align: top;\n",
       "    }\n",
       "\n",
       "    .dataframe thead th {\n",
       "        text-align: right;\n",
       "    }\n",
       "</style>\n",
       "<table border=\"1\" class=\"dataframe\">\n",
       "  <thead>\n",
       "    <tr style=\"text-align: right;\">\n",
       "      <th>Reject Newspaper</th>\n",
       "      <th>0</th>\n",
       "      <th>1</th>\n",
       "    </tr>\n",
       "    <tr>\n",
       "      <th>Reject Crowd</th>\n",
       "      <th></th>\n",
       "      <th></th>\n",
       "    </tr>\n",
       "  </thead>\n",
       "  <tbody>\n",
       "    <tr>\n",
       "      <th>0</th>\n",
       "      <td>74859</td>\n",
       "      <td>5625</td>\n",
       "    </tr>\n",
       "    <tr>\n",
       "      <th>1</th>\n",
       "      <td>3000</td>\n",
       "      <td>1516</td>\n",
       "    </tr>\n",
       "  </tbody>\n",
       "</table>\n",
       "</div>"
      ],
      "text/plain": [
       "Reject Newspaper      0     1\n",
       "Reject Crowd                 \n",
       "0                 74859  5625\n",
       "1                  3000  1516"
      ]
     },
     "execution_count": 4,
     "metadata": {},
     "output_type": "execute_result"
    }
   ],
   "source": [
    "# Cross table of the columns Reject Crowd and Reject Newspaper\n",
    "pd.crosstab(df_raw['Reject Crowd'], df_raw['Reject Newspaper'])"
   ]
  },
  {
   "cell_type": "code",
   "execution_count": 4,
   "metadata": {},
   "outputs": [],
   "source": [
    "df_out = df_raw[['Text', 'Reject Newspaper', 'Reject Crowd']].rename(columns={'Text': 'text', 'Reject Newspaper': 'label_newspaper', 'Reject Crowd': 'label_crowd'})"
   ]
  },
  {
   "cell_type": "code",
   "execution_count": 5,
   "metadata": {},
   "outputs": [],
   "source": [
    "# Create a new column named 'label' that is the OR of 'label_newspaper' and 'label_crowd'\n",
    "df_out['label'] = df_out[['label_newspaper', 'label_crowd']].max(axis=1)"
   ]
  },
  {
   "cell_type": "code",
   "execution_count": 6,
   "metadata": {},
   "outputs": [],
   "source": [
    "df_out['text'] = df_out['text'].str.replace(',','')\n"
   ]
  },
  {
   "cell_type": "code",
   "execution_count": 7,
   "metadata": {},
   "outputs": [
    {
     "data": {
      "text/html": [
       "<div>\n",
       "<style scoped>\n",
       "    .dataframe tbody tr th:only-of-type {\n",
       "        vertical-align: middle;\n",
       "    }\n",
       "\n",
       "    .dataframe tbody tr th {\n",
       "        vertical-align: top;\n",
       "    }\n",
       "\n",
       "    .dataframe thead th {\n",
       "        text-align: right;\n",
       "    }\n",
       "</style>\n",
       "<table border=\"1\" class=\"dataframe\">\n",
       "  <thead>\n",
       "    <tr style=\"text-align: right;\">\n",
       "      <th></th>\n",
       "      <th>text</th>\n",
       "      <th>label_newspaper</th>\n",
       "      <th>label_crowd</th>\n",
       "      <th>label</th>\n",
       "    </tr>\n",
       "  </thead>\n",
       "  <tbody>\n",
       "    <tr>\n",
       "      <th>0</th>\n",
       "      <td>Niemand braucht Laschet den Merkel Günstling !...</td>\n",
       "      <td>0</td>\n",
       "      <td>0</td>\n",
       "      <td>0</td>\n",
       "    </tr>\n",
       "    <tr>\n",
       "      <th>1</th>\n",
       "      <td>das war apokalypse now. nicht einmal zu einem ...</td>\n",
       "      <td>0</td>\n",
       "      <td>0</td>\n",
       "      <td>0</td>\n",
       "    </tr>\n",
       "    <tr>\n",
       "      <th>2</th>\n",
       "      <td>Katastrophal  -  Katastrophal -  anders kann d...</td>\n",
       "      <td>0</td>\n",
       "      <td>0</td>\n",
       "      <td>0</td>\n",
       "    </tr>\n",
       "  </tbody>\n",
       "</table>\n",
       "</div>"
      ],
      "text/plain": [
       "                                                text  label_newspaper   \n",
       "0  Niemand braucht Laschet den Merkel Günstling !...                0  \\\n",
       "1  das war apokalypse now. nicht einmal zu einem ...                0   \n",
       "2  Katastrophal  -  Katastrophal -  anders kann d...                0   \n",
       "\n",
       "   label_crowd  label  \n",
       "0            0      0  \n",
       "1            0      0  \n",
       "2            0      0  "
      ]
     },
     "execution_count": 7,
     "metadata": {},
     "output_type": "execute_result"
    }
   ],
   "source": [
    "df_out.head(3)"
   ]
  },
  {
   "cell_type": "code",
   "execution_count": 8,
   "metadata": {},
   "outputs": [],
   "source": [
    "df_out.to_csv(f'../ExternalData/{filename}_Clean.csv', sep=',', index=False)"
   ]
  },
  {
   "cell_type": "code",
   "execution_count": 9,
   "metadata": {},
   "outputs": [
    {
     "name": "stdout",
     "output_type": "stream",
     "text": [
      "10141\n"
     ]
    }
   ],
   "source": [
    "\n",
    "n_minority = df_out.label.value_counts(ascending=True)[1]\n",
    "print(n_minority)"
   ]
  },
  {
   "cell_type": "code",
   "execution_count": 10,
   "metadata": {},
   "outputs": [],
   "source": [
    "# Sample of the data\n",
    "df_out_sub = df_out.groupby('label').apply(lambda x: x.sample(n=min(n_minority, len(x))))\n"
   ]
  },
  {
   "cell_type": "code",
   "execution_count": 11,
   "metadata": {},
   "outputs": [
    {
     "data": {
      "text/plain": [
       "label\n",
       "0    10141\n",
       "1    10141\n",
       "Name: count, dtype: int64"
      ]
     },
     "execution_count": 11,
     "metadata": {},
     "output_type": "execute_result"
    }
   ],
   "source": [
    "df_out_sub.label.value_counts()"
   ]
  },
  {
   "cell_type": "code",
   "execution_count": 12,
   "metadata": {},
   "outputs": [],
   "source": [
    "df_out_sub.to_csv(f'../ExternalData/{filename}_Clean_Sub.csv', sep=',', index=False)\n",
    "df_out_sub.to_parquet(f'../ExternalData/{filename}_Clean_Sub.parquet', index=False)"
   ]
  },
  {
   "cell_type": "markdown",
   "metadata": {},
   "source": [
    "IWG_hatespeech_public"
   ]
  },
  {
   "cell_type": "code",
   "execution_count": 50,
   "metadata": {},
   "outputs": [
    {
     "data": {
      "text/plain": [
       "(308, 4)"
      ]
     },
     "execution_count": 50,
     "metadata": {},
     "output_type": "execute_result"
    }
   ],
   "source": [
    "test.shape"
   ]
  },
  {
   "cell_type": "code",
   "execution_count": 13,
   "metadata": {},
   "outputs": [],
   "source": [
    "filename = 'german_hatespeech_refugees'\n",
    "df_raw = pd.read_csv(f'../ExternalData/{filename}.csv', sep=',')"
   ]
  },
  {
   "cell_type": "code",
   "execution_count": 14,
   "metadata": {},
   "outputs": [
    {
     "data": {
      "text/html": [
       "<div>\n",
       "<style scoped>\n",
       "    .dataframe tbody tr th:only-of-type {\n",
       "        vertical-align: middle;\n",
       "    }\n",
       "\n",
       "    .dataframe tbody tr th {\n",
       "        vertical-align: top;\n",
       "    }\n",
       "\n",
       "    .dataframe thead th {\n",
       "        text-align: right;\n",
       "    }\n",
       "</style>\n",
       "<table border=\"1\" class=\"dataframe\">\n",
       "  <thead>\n",
       "    <tr style=\"text-align: right;\">\n",
       "      <th></th>\n",
       "      <th>Tweet</th>\n",
       "      <th>HatespeechOrNot (Expert 1)</th>\n",
       "      <th>HatespeechOrNot (Expert 2)</th>\n",
       "      <th>Hatespeech Rating (Expert 2)</th>\n",
       "    </tr>\n",
       "  </thead>\n",
       "  <tbody>\n",
       "    <tr>\n",
       "      <th>0</th>\n",
       "      <td>#Rosenmontag ist abgesagt. #Rapefugees also wi...</td>\n",
       "      <td>YES</td>\n",
       "      <td>NO</td>\n",
       "      <td>5</td>\n",
       "    </tr>\n",
       "    <tr>\n",
       "      <th>1</th>\n",
       "      <td>bitte nicht die #Türkei zum #EU-Mitglied mache...</td>\n",
       "      <td>NO</td>\n",
       "      <td>NO</td>\n",
       "      <td>1</td>\n",
       "    </tr>\n",
       "  </tbody>\n",
       "</table>\n",
       "</div>"
      ],
      "text/plain": [
       "                                               Tweet   \n",
       "0  #Rosenmontag ist abgesagt. #Rapefugees also wi...  \\\n",
       "1  bitte nicht die #Türkei zum #EU-Mitglied mache...   \n",
       "\n",
       "  HatespeechOrNot (Expert 1) HatespeechOrNot (Expert 2)   \n",
       "0                        YES                         NO  \\\n",
       "1                         NO                         NO   \n",
       "\n",
       "   Hatespeech Rating (Expert 2)  \n",
       "0                             5  \n",
       "1                             1  "
      ]
     },
     "execution_count": 14,
     "metadata": {},
     "output_type": "execute_result"
    }
   ],
   "source": [
    "df_raw.head(2)"
   ]
  },
  {
   "cell_type": "code",
   "execution_count": 15,
   "metadata": {},
   "outputs": [],
   "source": [
    "df_out = (df_raw[['Tweet', 'HatespeechOrNot (Expert 1)', 'HatespeechOrNot (Expert 2)']]\n",
    "          .rename(columns={'Tweet': 'text', 'HatespeechOrNot (Expert 1)': 'label_expert1', 'HatespeechOrNot (Expert 2)': 'label_expert2'}))"
   ]
  },
  {
   "cell_type": "code",
   "execution_count": 16,
   "metadata": {},
   "outputs": [],
   "source": [
    "df_out['text'] = df_out['text'].str.replace(',','')\n"
   ]
  },
  {
   "cell_type": "code",
   "execution_count": 17,
   "metadata": {},
   "outputs": [],
   "source": [
    "df_out['label_expert1'] = df_out['label_expert1'].replace({'NO': 0, 'YES': 1})\n",
    "df_out['label_expert2'] = df_out['label_expert2'].replace({'NO': 0, 'YES': 1})\n"
   ]
  },
  {
   "cell_type": "code",
   "execution_count": 18,
   "metadata": {},
   "outputs": [],
   "source": [
    "# Create a new column with the max vote of the two \"experts\"\n",
    "df_out['label'] = df_out[['label_expert1', 'label_expert2']].max(axis=1)"
   ]
  },
  {
   "cell_type": "code",
   "execution_count": 19,
   "metadata": {},
   "outputs": [],
   "source": [
    "df_out.to_csv(f'../ExternalData/{filename}_Clean.csv', sep=',', index=False)"
   ]
  },
  {
   "cell_type": "code",
   "execution_count": 20,
   "metadata": {},
   "outputs": [
    {
     "data": {
      "text/plain": [
       "(469, 4)"
      ]
     },
     "execution_count": 20,
     "metadata": {},
     "output_type": "execute_result"
    }
   ],
   "source": [
    "df_out.shape"
   ]
  },
  {
   "cell_type": "code",
   "execution_count": 21,
   "metadata": {},
   "outputs": [
    {
     "name": "stdout",
     "output_type": "stream",
     "text": [
      "154\n"
     ]
    }
   ],
   "source": [
    "n_minority = df_out.label.value_counts(ascending=True)[1]\n",
    "print(n_minority)"
   ]
  },
  {
   "cell_type": "code",
   "execution_count": 22,
   "metadata": {},
   "outputs": [],
   "source": [
    "df_out_sub = df_out.groupby('label').apply(lambda x: x.sample(n=min(n_minority, len(x))))"
   ]
  },
  {
   "cell_type": "code",
   "execution_count": 23,
   "metadata": {},
   "outputs": [
    {
     "data": {
      "text/plain": [
       "label\n",
       "0    154\n",
       "1    154\n",
       "Name: count, dtype: int64"
      ]
     },
     "execution_count": 23,
     "metadata": {},
     "output_type": "execute_result"
    }
   ],
   "source": [
    "df_out_sub.label.value_counts()"
   ]
  },
  {
   "cell_type": "code",
   "execution_count": 24,
   "metadata": {},
   "outputs": [],
   "source": [
    "df_out_sub.to_csv(f'../ExternalData/{filename}_Clean_Sub.csv', sep=',', index=False)\n",
    "df_out_sub.to_parquet(f'../ExternalData/{filename}_Clean_Sub.parquet', index=False)"
   ]
  },
  {
   "cell_type": "markdown",
   "metadata": {},
   "source": [
    "Facebook Comments"
   ]
  },
  {
   "cell_type": "code",
   "execution_count": 25,
   "metadata": {},
   "outputs": [],
   "source": [
    "filename_comments = 'fb_comments'\n",
    "filename_annotations = 'fb_annotated_comments'\n",
    "df_raw_comments = pd.read_csv(f'../ExternalData/{filename_comments}.csv', sep=',')\n",
    "df_raw_annotations = pd.read_csv(f'../ExternalData/{filename_annotations}.csv', sep=',')"
   ]
  },
  {
   "cell_type": "code",
   "execution_count": 26,
   "metadata": {},
   "outputs": [
    {
     "data": {
      "text/plain": [
       "(5836, 5)"
      ]
     },
     "execution_count": 26,
     "metadata": {},
     "output_type": "execute_result"
    }
   ],
   "source": [
    "df_raw_comments.shape"
   ]
  },
  {
   "cell_type": "code",
   "execution_count": 27,
   "metadata": {},
   "outputs": [],
   "source": [
    "df_raw_annotations['annotator_id'] = df_raw_annotations['annotator_id'].replace({1: 'Annotator_1', 3: 'Annotator_3'})"
   ]
  },
  {
   "cell_type": "code",
   "execution_count": 28,
   "metadata": {},
   "outputs": [
    {
     "data": {
      "text/plain": [
       "entry_number\n",
       "1    1295\n",
       "2      34\n",
       "0       2\n",
       "Name: count, dtype: int64"
      ]
     },
     "execution_count": 28,
     "metadata": {},
     "output_type": "execute_result"
    }
   ],
   "source": [
    "df_raw_annotations.entry_number.value_counts()"
   ]
  },
  {
   "cell_type": "code",
   "execution_count": 29,
   "metadata": {},
   "outputs": [],
   "source": [
    "# Remove Entries with value equal to 2\n",
    "df_raw_annotations = df_raw_annotations.loc[df_raw_annotations.entry_number != 2]"
   ]
  },
  {
   "cell_type": "code",
   "execution_count": 30,
   "metadata": {},
   "outputs": [
    {
     "data": {
      "text/plain": [
       "(1297, 5)"
      ]
     },
     "execution_count": 30,
     "metadata": {},
     "output_type": "execute_result"
    }
   ],
   "source": [
    "df_raw_annotations.shape"
   ]
  },
  {
   "cell_type": "code",
   "execution_count": 31,
   "metadata": {},
   "outputs": [],
   "source": [
    "# Pivot df_raw_annotations to get the annotations in columns\n",
    "df_raw_annotations_pivot = pd.pivot_table(df_raw_annotations, index='comment_id', columns='annotator_id', values='valence', fill_value=0)"
   ]
  },
  {
   "cell_type": "code",
   "execution_count": 32,
   "metadata": {},
   "outputs": [
    {
     "data": {
      "text/html": [
       "<div>\n",
       "<style scoped>\n",
       "    .dataframe tbody tr th:only-of-type {\n",
       "        vertical-align: middle;\n",
       "    }\n",
       "\n",
       "    .dataframe tbody tr th {\n",
       "        vertical-align: top;\n",
       "    }\n",
       "\n",
       "    .dataframe thead th {\n",
       "        text-align: right;\n",
       "    }\n",
       "</style>\n",
       "<table border=\"1\" class=\"dataframe\">\n",
       "  <thead>\n",
       "    <tr style=\"text-align: right;\">\n",
       "      <th>annotator_id</th>\n",
       "      <th>Annotator_1</th>\n",
       "      <th>Annotator_3</th>\n",
       "    </tr>\n",
       "    <tr>\n",
       "      <th>comment_id</th>\n",
       "      <th></th>\n",
       "      <th></th>\n",
       "    </tr>\n",
       "  </thead>\n",
       "  <tbody>\n",
       "    <tr>\n",
       "      <th>1</th>\n",
       "      <td>2</td>\n",
       "      <td>2</td>\n",
       "    </tr>\n",
       "    <tr>\n",
       "      <th>2547</th>\n",
       "      <td>2</td>\n",
       "      <td>2</td>\n",
       "    </tr>\n",
       "    <tr>\n",
       "      <th>2994</th>\n",
       "      <td>2</td>\n",
       "      <td>2</td>\n",
       "    </tr>\n",
       "    <tr>\n",
       "      <th>2993</th>\n",
       "      <td>2</td>\n",
       "      <td>2</td>\n",
       "    </tr>\n",
       "    <tr>\n",
       "      <th>2988</th>\n",
       "      <td>2</td>\n",
       "      <td>2</td>\n",
       "    </tr>\n",
       "    <tr>\n",
       "      <th>...</th>\n",
       "      <td>...</td>\n",
       "      <td>...</td>\n",
       "    </tr>\n",
       "    <tr>\n",
       "      <th>45</th>\n",
       "      <td>0</td>\n",
       "      <td>1</td>\n",
       "    </tr>\n",
       "    <tr>\n",
       "      <th>4006</th>\n",
       "      <td>0</td>\n",
       "      <td>1</td>\n",
       "    </tr>\n",
       "    <tr>\n",
       "      <th>1013</th>\n",
       "      <td>0</td>\n",
       "      <td>1</td>\n",
       "    </tr>\n",
       "    <tr>\n",
       "      <th>2754</th>\n",
       "      <td>0</td>\n",
       "      <td>1</td>\n",
       "    </tr>\n",
       "    <tr>\n",
       "      <th>101</th>\n",
       "      <td>0</td>\n",
       "      <td>2</td>\n",
       "    </tr>\n",
       "  </tbody>\n",
       "</table>\n",
       "<p>674 rows × 2 columns</p>\n",
       "</div>"
      ],
      "text/plain": [
       "annotator_id  Annotator_1  Annotator_3\n",
       "comment_id                            \n",
       "1                       2            2\n",
       "2547                    2            2\n",
       "2994                    2            2\n",
       "2993                    2            2\n",
       "2988                    2            2\n",
       "...                   ...          ...\n",
       "45                      0            1\n",
       "4006                    0            1\n",
       "1013                    0            1\n",
       "2754                    0            1\n",
       "101                     0            2\n",
       "\n",
       "[674 rows x 2 columns]"
      ]
     },
     "execution_count": 32,
     "metadata": {},
     "output_type": "execute_result"
    }
   ],
   "source": [
    "df_raw_annotations_pivot.sort_values(by='Annotator_1', ascending=False)"
   ]
  },
  {
   "cell_type": "code",
   "execution_count": 33,
   "metadata": {},
   "outputs": [
    {
     "data": {
      "text/plain": [
       "annotator_id\n",
       "Annotator_1    2\n",
       "Annotator_3    2\n",
       "dtype: int64"
      ]
     },
     "execution_count": 33,
     "metadata": {},
     "output_type": "execute_result"
    }
   ],
   "source": [
    "df_raw_annotations_pivot.max(axis=0)"
   ]
  },
  {
   "cell_type": "code",
   "execution_count": 34,
   "metadata": {},
   "outputs": [],
   "source": [
    "df_merged = pd.merge(df_raw_comments, df_raw_annotations_pivot, on='comment_id', how='left')"
   ]
  },
  {
   "cell_type": "code",
   "execution_count": 35,
   "metadata": {},
   "outputs": [
    {
     "data": {
      "text/plain": [
       "(5836, 7)"
      ]
     },
     "execution_count": 35,
     "metadata": {},
     "output_type": "execute_result"
    }
   ],
   "source": [
    "df_merged.shape"
   ]
  },
  {
   "cell_type": "code",
   "execution_count": 36,
   "metadata": {},
   "outputs": [
    {
     "data": {
      "text/html": [
       "<div>\n",
       "<style scoped>\n",
       "    .dataframe tbody tr th:only-of-type {\n",
       "        vertical-align: middle;\n",
       "    }\n",
       "\n",
       "    .dataframe tbody tr th {\n",
       "        vertical-align: top;\n",
       "    }\n",
       "\n",
       "    .dataframe thead th {\n",
       "        text-align: right;\n",
       "    }\n",
       "</style>\n",
       "<table border=\"1\" class=\"dataframe\">\n",
       "  <thead>\n",
       "    <tr style=\"text-align: right;\">\n",
       "      <th></th>\n",
       "      <th>comment_id</th>\n",
       "      <th>post_id</th>\n",
       "      <th>anonymized_user</th>\n",
       "      <th>message</th>\n",
       "      <th>created_at</th>\n",
       "      <th>Annotator_1</th>\n",
       "      <th>Annotator_3</th>\n",
       "    </tr>\n",
       "  </thead>\n",
       "  <tbody>\n",
       "    <tr>\n",
       "      <th>0</th>\n",
       "      <td>1</td>\n",
       "      <td>1</td>\n",
       "      <td>d766dfb93914e8da</td>\n",
       "      <td>gleich an die wand stellen und erschiessen..</td>\n",
       "      <td>2015-03-28 01:59:28</td>\n",
       "      <td>2.0</td>\n",
       "      <td>2.0</td>\n",
       "    </tr>\n",
       "    <tr>\n",
       "      <th>1</th>\n",
       "      <td>2</td>\n",
       "      <td>1</td>\n",
       "      <td>6e49f84e2a5a1f05</td>\n",
       "      <td>nicht dass ich der Grundbotschaft dieses Post'...</td>\n",
       "      <td>2015-03-28 01:59:28</td>\n",
       "      <td>NaN</td>\n",
       "      <td>NaN</td>\n",
       "    </tr>\n",
       "    <tr>\n",
       "      <th>2</th>\n",
       "      <td>3</td>\n",
       "      <td>1</td>\n",
       "      <td>6ab1ef4615c45a79</td>\n",
       "      <td>Das mit dem \"an die Wand stellen und erschiessen\"</td>\n",
       "      <td>2015-03-28 01:59:28</td>\n",
       "      <td>NaN</td>\n",
       "      <td>NaN</td>\n",
       "    </tr>\n",
       "    <tr>\n",
       "      <th>3</th>\n",
       "      <td>4</td>\n",
       "      <td>1</td>\n",
       "      <td>6ab1ef4615c45a79</td>\n",
       "      <td>Seit dem \"an die Wand stellen und erschiessen\"...</td>\n",
       "      <td>2015-03-28 01:59:28</td>\n",
       "      <td>NaN</td>\n",
       "      <td>NaN</td>\n",
       "    </tr>\n",
       "    <tr>\n",
       "      <th>4</th>\n",
       "      <td>5</td>\n",
       "      <td>1</td>\n",
       "      <td>03c34eadeee054d7</td>\n",
       "      <td>Ja ja die Kriminelle Heimatpartei FPÖ von Kind...</td>\n",
       "      <td>2015-03-28 01:59:28</td>\n",
       "      <td>NaN</td>\n",
       "      <td>NaN</td>\n",
       "    </tr>\n",
       "  </tbody>\n",
       "</table>\n",
       "</div>"
      ],
      "text/plain": [
       "   comment_id  post_id   anonymized_user   \n",
       "0           1        1  d766dfb93914e8da  \\\n",
       "1           2        1  6e49f84e2a5a1f05   \n",
       "2           3        1  6ab1ef4615c45a79   \n",
       "3           4        1  6ab1ef4615c45a79   \n",
       "4           5        1  03c34eadeee054d7   \n",
       "\n",
       "                                             message           created_at   \n",
       "0       gleich an die wand stellen und erschiessen..  2015-03-28 01:59:28  \\\n",
       "1  nicht dass ich der Grundbotschaft dieses Post'...  2015-03-28 01:59:28   \n",
       "2  Das mit dem \"an die Wand stellen und erschiessen\"  2015-03-28 01:59:28   \n",
       "3  Seit dem \"an die Wand stellen und erschiessen\"...  2015-03-28 01:59:28   \n",
       "4  Ja ja die Kriminelle Heimatpartei FPÖ von Kind...  2015-03-28 01:59:28   \n",
       "\n",
       "   Annotator_1  Annotator_3  \n",
       "0          2.0          2.0  \n",
       "1          NaN          NaN  \n",
       "2          NaN          NaN  \n",
       "3          NaN          NaN  \n",
       "4          NaN          NaN  "
      ]
     },
     "execution_count": 36,
     "metadata": {},
     "output_type": "execute_result"
    }
   ],
   "source": [
    "df_merged.head(5)"
   ]
  },
  {
   "cell_type": "code",
   "execution_count": 37,
   "metadata": {},
   "outputs": [],
   "source": [
    "df_out = df_merged[['message', 'Annotator_1', 'Annotator_3']].fillna(0).rename(columns={'message': 'text', 'Annotator_1': 'label_annotator1', 'Annotator_3': 'label_annotator3'})"
   ]
  },
  {
   "cell_type": "code",
   "execution_count": 38,
   "metadata": {},
   "outputs": [],
   "source": [
    "df_out['label_annotator1'] = df_out['label_annotator1'].apply(lambda x: 1 if x > 0 else 0)\n",
    "df_out['label_annotator3'] = df_out['label_annotator3'].apply(lambda x: 1 if x > 0 else 0)"
   ]
  },
  {
   "cell_type": "code",
   "execution_count": 39,
   "metadata": {},
   "outputs": [],
   "source": [
    "df_out['label'] = df_out[['label_annotator1', 'label_annotator3']].max(axis=1)   "
   ]
  },
  {
   "cell_type": "code",
   "execution_count": 40,
   "metadata": {},
   "outputs": [],
   "source": [
    "df_out['text'] = df_out['text'].str.replace(',','')\n"
   ]
  },
  {
   "cell_type": "code",
   "execution_count": 41,
   "metadata": {},
   "outputs": [
    {
     "data": {
      "text/html": [
       "<div>\n",
       "<style scoped>\n",
       "    .dataframe tbody tr th:only-of-type {\n",
       "        vertical-align: middle;\n",
       "    }\n",
       "\n",
       "    .dataframe tbody tr th {\n",
       "        vertical-align: top;\n",
       "    }\n",
       "\n",
       "    .dataframe thead th {\n",
       "        text-align: right;\n",
       "    }\n",
       "</style>\n",
       "<table border=\"1\" class=\"dataframe\">\n",
       "  <thead>\n",
       "    <tr style=\"text-align: right;\">\n",
       "      <th></th>\n",
       "      <th>text</th>\n",
       "      <th>label_annotator1</th>\n",
       "      <th>label_annotator3</th>\n",
       "      <th>label</th>\n",
       "    </tr>\n",
       "  </thead>\n",
       "  <tbody>\n",
       "    <tr>\n",
       "      <th>0</th>\n",
       "      <td>gleich an die wand stellen und erschiessen..</td>\n",
       "      <td>1</td>\n",
       "      <td>1</td>\n",
       "      <td>1</td>\n",
       "    </tr>\n",
       "    <tr>\n",
       "      <th>1</th>\n",
       "      <td>nicht dass ich der Grundbotschaft dieses Post'...</td>\n",
       "      <td>0</td>\n",
       "      <td>0</td>\n",
       "      <td>0</td>\n",
       "    </tr>\n",
       "    <tr>\n",
       "      <th>2</th>\n",
       "      <td>Das mit dem \"an die Wand stellen und erschiessen\"</td>\n",
       "      <td>0</td>\n",
       "      <td>0</td>\n",
       "      <td>0</td>\n",
       "    </tr>\n",
       "    <tr>\n",
       "      <th>3</th>\n",
       "      <td>Seit dem \"an die Wand stellen und erschiessen\"...</td>\n",
       "      <td>0</td>\n",
       "      <td>0</td>\n",
       "      <td>0</td>\n",
       "    </tr>\n",
       "    <tr>\n",
       "      <th>4</th>\n",
       "      <td>Ja ja die Kriminelle Heimatpartei FPÖ von Kind...</td>\n",
       "      <td>0</td>\n",
       "      <td>0</td>\n",
       "      <td>0</td>\n",
       "    </tr>\n",
       "    <tr>\n",
       "      <th>5</th>\n",
       "      <td>Ihr seids empfindlich . . Is beste wos uns pas...</td>\n",
       "      <td>1</td>\n",
       "      <td>1</td>\n",
       "      <td>1</td>\n",
       "    </tr>\n",
       "    <tr>\n",
       "      <th>6</th>\n",
       "      <td>Mei bitte sie sollen sich alle gegenseitig abs...</td>\n",
       "      <td>1</td>\n",
       "      <td>1</td>\n",
       "      <td>1</td>\n",
       "    </tr>\n",
       "    <tr>\n",
       "      <th>7</th>\n",
       "      <td>Wahnsinn.... :-(</td>\n",
       "      <td>0</td>\n",
       "      <td>0</td>\n",
       "      <td>0</td>\n",
       "    </tr>\n",
       "    <tr>\n",
       "      <th>8</th>\n",
       "      <td>Alles nur traumatisierte Kindlein.  Die von de...</td>\n",
       "      <td>0</td>\n",
       "      <td>0</td>\n",
       "      <td>0</td>\n",
       "    </tr>\n",
       "    <tr>\n",
       "      <th>9</th>\n",
       "      <td>Fachkräfte bei der Arbeit. Ein Hirnchirurg und...</td>\n",
       "      <td>0</td>\n",
       "      <td>0</td>\n",
       "      <td>0</td>\n",
       "    </tr>\n",
       "    <tr>\n",
       "      <th>10</th>\n",
       "      <td>Unglaublich was für ausländerfeindliche Kommen...</td>\n",
       "      <td>1</td>\n",
       "      <td>1</td>\n",
       "      <td>1</td>\n",
       "    </tr>\n",
       "    <tr>\n",
       "      <th>11</th>\n",
       "      <td>ich staune nur daß in österreich dieses proble...</td>\n",
       "      <td>0</td>\n",
       "      <td>0</td>\n",
       "      <td>0</td>\n",
       "    </tr>\n",
       "    <tr>\n",
       "      <th>12</th>\n",
       "      <td>Das ist multi Kulti</td>\n",
       "      <td>0</td>\n",
       "      <td>0</td>\n",
       "      <td>0</td>\n",
       "    </tr>\n",
       "    <tr>\n",
       "      <th>13</th>\n",
       "      <td>Es soll doch jeder in sein eigenen Land bleibe...</td>\n",
       "      <td>0</td>\n",
       "      <td>0</td>\n",
       "      <td>0</td>\n",
       "    </tr>\n",
       "    <tr>\n",
       "      <th>14</th>\n",
       "      <td>Supie! Sie löschen sich gegenseitig aus! Hoffe...</td>\n",
       "      <td>1</td>\n",
       "      <td>1</td>\n",
       "      <td>1</td>\n",
       "    </tr>\n",
       "    <tr>\n",
       "      <th>15</th>\n",
       "      <td>jagt dieses Dreckspack raus.</td>\n",
       "      <td>1</td>\n",
       "      <td>1</td>\n",
       "      <td>1</td>\n",
       "    </tr>\n",
       "    <tr>\n",
       "      <th>16</th>\n",
       "      <td>die regierung will es doch so polizei schaut b...</td>\n",
       "      <td>0</td>\n",
       "      <td>0</td>\n",
       "      <td>0</td>\n",
       "    </tr>\n",
       "    <tr>\n",
       "      <th>17</th>\n",
       "      <td>weiter so freut mich das alle gutmenschen aufw...</td>\n",
       "      <td>0</td>\n",
       "      <td>0</td>\n",
       "      <td>0</td>\n",
       "    </tr>\n",
       "    <tr>\n",
       "      <th>18</th>\n",
       "      <td>beide volksgruppen sofort ausweisen das eizige...</td>\n",
       "      <td>0</td>\n",
       "      <td>0</td>\n",
       "      <td>0</td>\n",
       "    </tr>\n",
       "    <tr>\n",
       "      <th>19</th>\n",
       "      <td>warum hauen die ösis nicht drauf die könnens d...</td>\n",
       "      <td>0</td>\n",
       "      <td>0</td>\n",
       "      <td>0</td>\n",
       "    </tr>\n",
       "  </tbody>\n",
       "</table>\n",
       "</div>"
      ],
      "text/plain": [
       "                                                 text  label_annotator1   \n",
       "0        gleich an die wand stellen und erschiessen..                 1  \\\n",
       "1   nicht dass ich der Grundbotschaft dieses Post'...                 0   \n",
       "2   Das mit dem \"an die Wand stellen und erschiessen\"                 0   \n",
       "3   Seit dem \"an die Wand stellen und erschiessen\"...                 0   \n",
       "4   Ja ja die Kriminelle Heimatpartei FPÖ von Kind...                 0   \n",
       "5   Ihr seids empfindlich . . Is beste wos uns pas...                 1   \n",
       "6   Mei bitte sie sollen sich alle gegenseitig abs...                 1   \n",
       "7                                    Wahnsinn.... :-(                 0   \n",
       "8   Alles nur traumatisierte Kindlein.  Die von de...                 0   \n",
       "9   Fachkräfte bei der Arbeit. Ein Hirnchirurg und...                 0   \n",
       "10  Unglaublich was für ausländerfeindliche Kommen...                 1   \n",
       "11  ich staune nur daß in österreich dieses proble...                 0   \n",
       "12                                Das ist multi Kulti                 0   \n",
       "13  Es soll doch jeder in sein eigenen Land bleibe...                 0   \n",
       "14  Supie! Sie löschen sich gegenseitig aus! Hoffe...                 1   \n",
       "15                       jagt dieses Dreckspack raus.                 1   \n",
       "16  die regierung will es doch so polizei schaut b...                 0   \n",
       "17  weiter so freut mich das alle gutmenschen aufw...                 0   \n",
       "18  beide volksgruppen sofort ausweisen das eizige...                 0   \n",
       "19  warum hauen die ösis nicht drauf die könnens d...                 0   \n",
       "\n",
       "    label_annotator3  label  \n",
       "0                  1      1  \n",
       "1                  0      0  \n",
       "2                  0      0  \n",
       "3                  0      0  \n",
       "4                  0      0  \n",
       "5                  1      1  \n",
       "6                  1      1  \n",
       "7                  0      0  \n",
       "8                  0      0  \n",
       "9                  0      0  \n",
       "10                 1      1  \n",
       "11                 0      0  \n",
       "12                 0      0  \n",
       "13                 0      0  \n",
       "14                 1      1  \n",
       "15                 1      1  \n",
       "16                 0      0  \n",
       "17                 0      0  \n",
       "18                 0      0  \n",
       "19                 0      0  "
      ]
     },
     "execution_count": 41,
     "metadata": {},
     "output_type": "execute_result"
    }
   ],
   "source": [
    "df_out.head(20)"
   ]
  },
  {
   "cell_type": "code",
   "execution_count": 42,
   "metadata": {},
   "outputs": [],
   "source": [
    "df_out.to_csv(f'../ExternalData/fb_Clean.csv', sep=',', index=False)"
   ]
  },
  {
   "cell_type": "code",
   "execution_count": 43,
   "metadata": {},
   "outputs": [
    {
     "name": "stdout",
     "output_type": "stream",
     "text": [
      "674\n"
     ]
    }
   ],
   "source": [
    "n_minority = df_out.label.value_counts(ascending=True)[1]\n",
    "print(n_minority)"
   ]
  },
  {
   "cell_type": "code",
   "execution_count": 44,
   "metadata": {},
   "outputs": [],
   "source": [
    "df_out_sub = df_out.groupby('label').apply(lambda x: x.sample(n=min(n_minority, len(x))))"
   ]
  },
  {
   "cell_type": "code",
   "execution_count": 45,
   "metadata": {},
   "outputs": [
    {
     "data": {
      "text/plain": [
       "label\n",
       "0    674\n",
       "1    674\n",
       "Name: count, dtype: int64"
      ]
     },
     "execution_count": 45,
     "metadata": {},
     "output_type": "execute_result"
    }
   ],
   "source": [
    "df_out_sub.label.value_counts()"
   ]
  },
  {
   "cell_type": "code",
   "execution_count": 46,
   "metadata": {},
   "outputs": [],
   "source": [
    "df_out_sub.to_csv(f'../ExternalData/fb_Clean_Sub.csv', sep=',', index=False)\n",
    "df_out_sub.to_parquet(f'../ExternalData/fb_Clean_Sub.parquet', index=False)"
   ]
  },
  {
   "cell_type": "code",
   "execution_count": 48,
   "metadata": {},
   "outputs": [
    {
     "data": {
      "text/plain": [
       "False"
      ]
     },
     "execution_count": 48,
     "metadata": {},
     "output_type": "execute_result"
    }
   ],
   "source": [
    "any(df_out_sub.text.str.contains(','))"
   ]
  },
  {
   "cell_type": "code",
   "execution_count": null,
   "metadata": {},
   "outputs": [],
   "source": []
  }
 ],
 "metadata": {
  "kernelspec": {
   "display_name": "pinborg",
   "language": "python",
   "name": "python3"
  },
  "language_info": {
   "codemirror_mode": {
    "name": "ipython",
    "version": 3
   },
   "file_extension": ".py",
   "mimetype": "text/x-python",
   "name": "python",
   "nbconvert_exporter": "python",
   "pygments_lexer": "ipython3",
   "version": "3.9.16"
  },
  "orig_nbformat": 4
 },
 "nbformat": 4,
 "nbformat_minor": 2
}
